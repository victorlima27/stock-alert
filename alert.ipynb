{
 "cells": [
  {
   "cell_type": "code",
   "execution_count": null,
   "metadata": {},
   "outputs": [],
   "source": []
  },
  {
   "cell_type": "code",
   "execution_count": null,
   "metadata": {},
   "outputs": [],
   "source": [
    "import smtplib\n",
    "from datetime import datetime\n",
    "from email.mime.multipart import MIMEMultipart\n",
    "from email.mime.text import MIMEText\n",
    "\n",
    "def enviar_email (email,titulo, mensagem):\n",
    "    # Configuração do servidor SMTP e informações de login\n",
    "    smtp_server = 'servidor@mail'\n",
    "    smtp_port = 587\n",
    "    smtp_username = 'user'\n",
    "    smtp_password = 'pass'\n",
    "    hora_now = datetime.now()\n",
    "    format = \"%H:%M do dia\"  \" %d/%m/%Y\"\n",
    "    hora= datetime.strftime(hora_now,format)\n",
    "    \n",
    "    from_address = 'email.remetente@hotmail.com'\n",
    "    to_address = [email,'email.seguranca@hotmail.com']\n",
    "    \n",
    "    subject = f\"Assunto do E-mail\"\n",
    "\n",
    "    # Leitura do conteúdo do arquivo HTML\n",
    "    with open('index.html', 'r', encoding=\"utf-8\") as html_file:\n",
    "        html_template = html_file.read()\n",
    "\n",
    "    # Criação do objeto MIME para o email com conteúdo em HTML\n",
    "    msg = MIMEMultipart()\n",
    "    msg['From'] = from_address\n",
    "    msg['To'] = ', '.join(to_address)\n",
    "    msg['Subject'] = subject\n",
    "\n",
    "    ## Ajeitando as variáveis do código HTML ##\n",
    "    html_content = html_template.replace('%titulo%', titulo).replace('%hora%', hora)\n",
    "    # html_content = html_template.replace('%titulo%', titulo).replace('%hora%', hora).replace('%departamento%', departamento).replace('%cliente%', cliente).replace('%pasta%', pasta).replace('%mensagem%', mensagem)\n",
    "    \n",
    "    # Adição do corpo do email em formato HTML\n",
    "    msg.attach(MIMEText(html_content, 'html'))\n",
    "\n",
    "    # Conexão com o servidor SMTP e envio do email\n",
    "    smtp = smtplib.SMTP(smtp_server, smtp_port)\n",
    "    smtp.starttls()\n",
    "    smtp.login(smtp_username, smtp_password)\n",
    "    smtp.sendmail(from_address, to_address, msg.as_string())\n",
    "    print(f'Mensagem enviada para {email}')\n",
    "    smtp.quit()"
   ]
  }
 ],
 "metadata": {
  "language_info": {
   "name": "python"
  }
 },
 "nbformat": 4,
 "nbformat_minor": 2
}
